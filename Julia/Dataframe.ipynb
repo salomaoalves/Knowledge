{
 "cells": [
  {
   "cell_type": "code",
   "execution_count": null,
   "metadata": {
    "id": "WIw0K_I0EtPm"
   },
   "outputs": [],
   "source": [
    "using DataFrames\n",
    "using CSV"
   ]
  },
  {
   "cell_type": "code",
   "execution_count": null,
   "metadata": {
    "id": "L4uE5HXBEtPn"
   },
   "outputs": [],
   "source": [
    "# Create data - DataFrame(colName=dataArray, ...) or DataFrame(matrixData, arrayColName) or DataFrame(matrixData, :auto)\n",
    "#   the columns names can be a array of string or symbols\n",
    "foods = [\"apple\", \"cucumber\", \"tomato\", \"banana\"]\n",
    "calories = [105,47,22,105]\n",
    "prices = [0.85,1.6,0.8,0.6,]\n",
    "aq = [10.0   8.04  10.0  9.14  10.0   7.46   8.0   6.58\n",
    "       8.0   6.95   8.0  8.14   8.0   6.77   8.0   5.76\n",
    "      13.0   7.58  13.0  8.74  13.0  12.74   8.0   7.71\n",
    "       9.0   8.81   9.0  8.77   9.0   7.11   8.0   8.84\n",
    "      11.0   8.33  11.0  9.26  11.0   7.81   8.0   8.47\n",
    "      14.0   9.96  14.0  8.1   14.0   8.84   8.0   7.04\n",
    "       6.0   7.24   6.0  6.13   6.0   6.08   8.0   5.25\n",
    "       4.0   4.26   4.0  3.1    4.0   5.39  19.0  missing\n",
    "      12.0  10.84  12.0  9.13  12.0  missing 8.0   5.56\n",
    "       7.0   4.82   7.0  7.26   7.0   6.42   8.0   7.91\n",
    "       5.0   5.68   5.0  4.74   5.0   5.73   8.0   6.89]\n",
    "\n",
    "dataframe_calories = DataFrame(item=foods,calories=calories)\n",
    "dataframe_prices = DataFrame(item=foods,price=prices)\n",
    "\n",
    "df = CSV.read(\"data/programming_languages.csv\", DataFrame)\n",
    "language = \"Julia\"  # cols: year and language\n",
    "\n",
    "df2 = DataFrame(aq, :auto)\n",
    "colNames = vec(string.([\"x\", \"y\"], [1 2 3 4]))\n",
    "\n",
    "df3 = CSV.File(\"data/auto2.csv\") |> DataFrame;"
   ]
  },
  {
   "cell_type": "code",
   "execution_count": null,
   "metadata": {
    "id": "CQQsdRVQEtPn",
    "outputId": "310b144f-a1e9-47aa-997b-8e332c851c1a"
   },
   "outputs": [
    {
     "data": {
      "text/html": [
       "<table class=\"data-frame\"><thead><tr><th></th><th>variable</th><th>mean</th><th>min</th><th>median</th><th>max</th><th>nmissing</th><th>eltype</th></tr><tr><th></th><th>Symbol</th><th>Union…</th><th>Any</th><th>Union…</th><th>Any</th><th>Int64</th><th>DataType</th></tr></thead><tbody><p>2 rows × 7 columns</p><tr><th>1</th><td>year</td><td>1982.99</td><td>1951</td><td>1986.0</td><td>2014</td><td>0</td><td>Int64</td></tr><tr><th>2</th><td>language</td><td></td><td>ALGOL 58</td><td></td><td>dBase III</td><td>0</td><td>String</td></tr></tbody></table>"
      ],
      "text/latex": [
       "\\begin{tabular}{r|ccccccc}\n",
       "\t& variable & mean & min & median & max & nmissing & eltype\\\\\n",
       "\t\\hline\n",
       "\t& Symbol & Union… & Any & Union… & Any & Int64 & DataType\\\\\n",
       "\t\\hline\n",
       "\t1 & year & 1982.99 & 1951 & 1986.0 & 2014 & 0 & Int64 \\\\\n",
       "\t2 & language &  & ALGOL 58 &  & dBase III & 0 & String \\\\\n",
       "\\end{tabular}\n"
      ],
      "text/plain": [
       "\u001b[1m2×7 DataFrame\u001b[0m\n",
       "\u001b[1m Row \u001b[0m│\u001b[1m variable \u001b[0m\u001b[1m mean    \u001b[0m\u001b[1m min      \u001b[0m\u001b[1m median \u001b[0m\u001b[1m max       \u001b[0m\u001b[1m nmissing \u001b[0m\u001b[1m eltype   \u001b[0m\n",
       "\u001b[1m     \u001b[0m│\u001b[90m Symbol   \u001b[0m\u001b[90m Union…  \u001b[0m\u001b[90m Any      \u001b[0m\u001b[90m Union… \u001b[0m\u001b[90m Any       \u001b[0m\u001b[90m Int64    \u001b[0m\u001b[90m DataType \u001b[0m\n",
       "─────┼────────────────────────────────────────────────────────────────────\n",
       "   1 │ year      1982.99  1951      1986.0  2014              0  Int64\n",
       "   2 │ language \u001b[90m         \u001b[0m ALGOL 58 \u001b[90m        \u001b[0m dBase III         0  String"
      ]
     },
     "metadata": {},
     "output_type": "display_data"
    }
   ],
   "source": [
    "names(df) # return columns names\n",
    "\n",
    "newnames = vec(string.([\"x\", \"y\"], [1 2 3 4]))\n",
    "rename!(df2, newnames) # rename columns\n",
    "rename!(df, [\"year\",\"language\"])\n",
    "\n",
    "nrow(df) # numb of rows\n",
    "ncol(df) # numb of cols\n",
    "\n",
    "describe(df) #summarize the contents"
   ]
  },
  {
   "cell_type": "code",
   "execution_count": null,
   "metadata": {
    "id": "yysGb0XLEtPo"
   },
   "outputs": [],
   "source": [
    "# Join, can be: outerjoin, leftjoin, rightjoin, semijoin, antijoin, crossjoin\n",
    "DF = innerjoin(dataframe_calories, dataframe_prices, on=:item);"
   ]
  },
  {
   "cell_type": "code",
   "execution_count": null,
   "metadata": {
    "id": "PRmIdOkmEtPp"
   },
   "outputs": [],
   "source": [
    "# Data type and slices\n",
    "@show typeof(df)\n",
    "df[1:10,:] # df.year n df.year[1:10]\n",
    "\n",
    "# Create a new col with a list\n",
    "df.id = 1:nrow(df)\n",
    "\n",
    "# Compare each value of col 2 with language var\n",
    "#   return a Bool vector\n",
    "df[:,2] .== language\n",
    "\n",
    "# To make a slice\n",
    "df[df.language .== language, :];"
   ]
  },
  {
   "cell_type": "code",
   "execution_count": null,
   "metadata": {
    "id": "bh_PlqjGEtPq"
   },
   "outputs": [],
   "source": [
    "# Reorder columns - use a regex, in this case, get first all cols start with x and then the rest of them (:)\n",
    "select!(df2, r\"x\", :)\n",
    "\n",
    "# Data Transformation - create new columns\n",
    "#   ByRow(source_columns -> transformation[] => destination_columns)\n",
    "new_df = select(df, :year => ByRow(x -> [x,Float64(x)+1]) => [\"year01\",\"year02\"])\n",
    "\n",
    "# Count how much missing values in the columns/rows\n",
    "#   eachcol(df) return the iterator over the columns of the DataFrame\n",
    "#   eachrow(df) return the iterator over the rows of the DataFrame\n",
    "missing_sum_cols = sum(count(ismissing, col) for col in eachcol(df2))\n",
    "missing_sum_rows = sum(count(ismissing, row) for row in eachrow(df2))\n",
    "\n",
    "# Sum\n",
    "rdm_sum = sum(df2[:,1])\n",
    "\n",
    "# Map Columns - get each cols at a time\n",
    "missing_map = mapcols(x -> count(ismissing, x), df2)\n",
    "\n",
    "# Transformation\n",
    "transform!(df2,\n",
    "           :x1 => ByRow(x -> (x-1) / factorial(x)) => :theory,\n",
    "           renamexols=true)\n",
    "\n",
    "# Filter - get each row at a time\n",
    "filt1 = filter(row -> any(ismissing, row), df2) # see in all cols\n",
    "filt2 = filter(row -> row.y4 == language, df2) # see only in col y4\n",
    "filt3 = filter(:y4 -> ==(language), df2) # same as above\n",
    "    # 'row -> row.y4 == language'  ===  'y4 -> ==(language)'\n",
    "\n",
    "# Group by\n",
    "gb = groupby(df3, :brand, sort=true)\n",
    "group = gb[(\"ford\",)] # get a group - return all row with yeas as 1958\n",
    "agg_gb = combine(gb, :mpg => mean => :avg_mpg) # create a agg per group\n",
    "                #source_columns => agg or anonymus func [=> destination_columns]\n",
    "\n",
    "# Chain of operations\n",
    "brand_origin = @pipe df |>  # _ will get the element pass previously\n",
    "                    groupby(_, :brand) |>\n",
    "                    combine(_, :origin => x -> length(unique(x)))\n",
    "count_brand = @pipe df |>\n",
    "                    groupby(_, [:brand, :origin]) |>\n",
    "                    combine(_, nrow)\n",
    "origin_brand = @pipe df |>\n",
    "                    groupby(_, :origin) |>  # with Ref, the vector it is not spread\n",
    "                    combine(_, :brand => x -> Ref(unique(x))) # the elements is a vector\n",
    "\n",
    "# Flatten - expand the column in Ref; it's like the above but without the Ref()\n",
    "flatten(origin_brand, :brand_function)\n",
    "\n",
    "# Sort\n",
    "sort(agg_gb, :avg_brand, rev=true)\n",
    "\n",
    "# Frequency Table - use FreqTables.jl\n",
    "freqtable(df3, :brand, :origin);"
   ]
  },
  {
   "cell_type": "code",
   "execution_count": null,
   "metadata": {
    "id": "xXb-qX8oEtPq",
    "outputId": "60166ba9-e108-4861-acf0-b7d31d279ef5"
   },
   "outputs": [
    {
     "ename": "UndefVarError",
     "evalue": "UndefVarError: allowmising! not defined",
     "output_type": "error",
     "traceback": [
      "UndefVarError: allowmising! not defined\n",
      "\n",
      "Stacktrace:\n",
      " [1] top-level scope\n",
      "   @ ~/DataScience/Julia01.ipynb:2"
     ]
    }
   ],
   "source": [
    "# Allow missing data in columns\n",
    "allowmising!(df, :year)\n",
    "\n",
    "# Disallow missing data in columns\n",
    "disallowmising!(df, :year)\n",
    "\n",
    "# Replace missing values\n",
    "coalesce.(df2, 0)\n",
    "\n",
    "# Drop missing values\n",
    "dropmissing(df2);"
   ]
  },
  {
   "cell_type": "code",
   "execution_count": null,
   "metadata": {
    "id": "ZcMfQvAmEtPr",
    "outputId": "4552cd10-ab3a-4004-acc9-36d9667a2a8a"
   },
   "outputs": [
    {
     "data": {
      "text/plain": [
       "true"
      ]
     },
     "metadata": {},
     "output_type": "display_data"
    }
   ],
   "source": [
    "c = df[:, :x1] # this will copy the data, so it'll store in a diff place\n",
    "n = df[!, :x1] # this will no copy the data, point to same memory point\n",
    "c === df.x1 # False\n",
    "n === df.x1 # True"
   ]
  },
  {
   "cell_type": "code",
   "execution_count": null,
   "metadata": {
    "id": "9QXLPIAqEtPs"
   },
   "outputs": [],
   "source": [
    "# Ways to create a DataFrame\n",
    "\n",
    "df_raw = CSV.File(\"data/auto.txt\", header=[:metrics, :name]) |> DataFrame;\n",
    "\n",
    "# First way\n",
    "str_metrics = split.(df_raw.metrics) # split a column by space\n",
    "df1_2 = DataFrame([col => Float64[] for # create a empty DataFrame with define cols n col data type\n",
    "                  col in [:mpg, :cylinders, :displacement, :horsepower, :weight, :acceleration, :year, :origin]])\n",
    "allowmissing!(df1_2, [:mpg, :horsepower]) # allow missing value in columns 'mpg' n 'horsepower'\n",
    "for row in str_metrics # populate the DataFrame\n",
    "    push!(df1_2, [v == \"NA\" ? missing : parse(Float64, v) for v in row])\n",
    "end\n",
    "df1_2.name = df_raw.name # add String variables - both will be the same object (=== is True)\n",
    "df1_2.name = df_raw[:, :name] # do this to create a copy (=== is False)\n",
    "\n",
    "# Second way\n",
    "df1_3 = select(df_raw,\n",
    "               :metrics => # get the col and do, by row, a operation over x, the return will be set using a col array\n",
    "                   ByRow(x -> something.(tryparse.(Float64, split(x)), missing)) =>\n",
    "                   [:mpg, :cylinders, :displacement, :horsepower, :weight, :acceleration, :year, :origin],\n",
    "               :name)"
   ]
  }
 ],
 "metadata": {
  "@webio": {
   "lastCommId": null,
   "lastKernelId": null
  },
  "colab": {
   "collapsed_sections": [
    "1D9hmXUVEtOO",
    "T48agVe8EtOg",
    "EO7Z5hkuEtOv",
    "NkDLdOLSEtOw",
    "uBCC5hW5EtOx",
    "DUeF3UzoEtOz",
    "RUJklEViEtO0",
    "Yl_knTgqEtO5",
    "-jbrRRTmEtO7",
    "Gq3M64oWEtO8",
    "foWSqH5REtO-",
    "DUhHdkw-EtO_",
    "OITYQD_4EtPM",
    "fpM4e_LPEtPO",
    "96dE2dJxEtPQ",
    "IzqKnIPXEtPU",
    "HikVxBWqEtPX",
    "iH2016gTEtPc",
    "FMO-lfNPEtPm",
    "1Xxfo7Y7EtPt",
    "x-LDgZ0EEtPv",
    "1RMZ-BqYEtPw",
    "p23f5WssEtPw",
    "WAB8EPkaEtPx",
    "gChqVZj_EtPz",
    "aFItdloYEtP8",
    "XXVII_cGEtP9",
    "gHVXiKynEtQA",
    "iKaeqMfFEtQC",
    "-gif3aAuEtQF"
   ],
   "provenance": []
  },
  "kernelspec": {
   "display_name": "Julia 1.6.7",
   "language": "julia",
   "name": "julia-1.6"
  },
  "language_info": {
   "file_extension": ".jl",
   "mimetype": "application/julia",
   "name": "julia",
   "version": "1.6.7"
  }
 },
 "nbformat": 4,
 "nbformat_minor": 0
}
