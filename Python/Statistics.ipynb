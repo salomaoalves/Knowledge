{
 "cells": [
  {
   "cell_type": "code",
   "execution_count": null,
   "metadata": {},
   "outputs": [
    {
     "name": "stdout",
     "output_type": "stream",
     "text": [
      "Mounted at /content/drive\n"
     ]
    }
   ],
   "source": [
    "\n",
    "# Load the Drive helper and mount\n",
    "from google.colab import drive\n",
    "drive.mount('/content/drive')\n",
    "\n",
    "# Python Folder path\n",
    "PYTHON_PATH = '/content/drive/MyDrive/Stuffs/Python/'"
   ]
  },
  {
   "cell_type": "markdown",
   "metadata": {},
   "source": [
    "## Qualitative Variables"
   ]
  },
  {
   "cell_type": "code",
   "execution_count": null,
   "metadata": {},
   "outputs": [],
   "source": [
    "import pandas as pd\n",
    "import numpy as np\n",
    "\n",
    "df = pd.DataFrame([['A', 'Z', 'B', 65, 10, 26, 98], ['B', 'Y', 'B', 25, 15, 21, 89], ['A', 'Y', 'B', 13, 23, 25, 99], ['B', 'Z', 'B', 25, 23, 20, 88],\n",
    "                   ['C', 'Y', 'B', 15, 19, 5, 90],  ['D', 'Z', 'B', 18, 11, 5, 97],  ['A', 'Y', 'B', 13, 23, 25, 99], ['B', 'Z', 'B', 25, 23, 20, 88],\n",
    "                   ['A', 'Y', 'A', 13, 23, 25, 99], ['B', 'Z', 'A', 25, 23, 20, 88], ['C', 'Y', 'A', 15, 19, 5, 90],  ['D', 'Z', 'A', 18, 11, 5, 97],\n",
    "                   ['A', 'Y', 'A', 13, 23, 25, 99], ['B', 'Z', 'A', 25, 23, 20, 88], ['C', 'Y', 'A', 15, 19, 5, 90],  ['D', 'Z', 'A', 18, 11, 5, 97],\n",
    "                   ['C', 'Y', 'A', 15, 19, 5, 90],  ['D', 'Z', 'A', 18, 11, 5, 97],  ['C', 'Z', 'B', 15, 17, 6, 80],  ['D', 'Y', 'B', 19, 13, 5, 98]],\n",
    "                  columns=['Team', 'League', 'Division', 'Round 2', 'Round 3', 'Round 4', 'Final'])"
   ]
  },
  {
   "cell_type": "code",
   "execution_count": null,
   "metadata": {},
   "outputs": [
    {
     "data": {
      "text/plain": [
       "A    5\n",
       "B    5\n",
       "C    5\n",
       "D    5\n",
       "Name: Team, dtype: int64"
      ]
     },
     "metadata": {},
     "output_type": "display_data"
    }
   ],
   "source": [
    "# Frequency Table\n",
    "df['Team'].value_counts() #or pd.crosstab(df['Team'], 'freq', margins=False)"
   ]
  },
  {
   "cell_type": "code",
   "execution_count": null,
   "metadata": {},
   "outputs": [
    {
     "data": {
      "text/html": [
       "\n",
       "  <div id=\"df-e1487474-4d59-45c3-add0-d14065870d85\">\n",
       "    <div class=\"colab-df-container\">\n",
       "      <div>\n",
       "<style scoped>\n",
       "    .dataframe tbody tr th:only-of-type {\n",
       "        vertical-align: middle;\n",
       "    }\n",
       "\n",
       "    .dataframe tbody tr th {\n",
       "        vertical-align: top;\n",
       "    }\n",
       "\n",
       "    .dataframe thead th {\n",
       "        text-align: right;\n",
       "    }\n",
       "</style>\n",
       "<table border=\"1\" class=\"dataframe\">\n",
       "  <thead>\n",
       "    <tr style=\"text-align: right;\">\n",
       "      <th></th>\n",
       "      <th>Division</th>\n",
       "      <th>A</th>\n",
       "      <th>B</th>\n",
       "    </tr>\n",
       "    <tr>\n",
       "      <th>Team</th>\n",
       "      <th>League</th>\n",
       "      <th></th>\n",
       "      <th></th>\n",
       "    </tr>\n",
       "  </thead>\n",
       "  <tbody>\n",
       "    <tr>\n",
       "      <th rowspan=\"2\" valign=\"top\">A</th>\n",
       "      <th>Y</th>\n",
       "      <td>2</td>\n",
       "      <td>2</td>\n",
       "    </tr>\n",
       "    <tr>\n",
       "      <th>Z</th>\n",
       "      <td>0</td>\n",
       "      <td>1</td>\n",
       "    </tr>\n",
       "    <tr>\n",
       "      <th rowspan=\"2\" valign=\"top\">B</th>\n",
       "      <th>Y</th>\n",
       "      <td>0</td>\n",
       "      <td>1</td>\n",
       "    </tr>\n",
       "    <tr>\n",
       "      <th>Z</th>\n",
       "      <td>2</td>\n",
       "      <td>2</td>\n",
       "    </tr>\n",
       "    <tr>\n",
       "      <th rowspan=\"2\" valign=\"top\">C</th>\n",
       "      <th>Y</th>\n",
       "      <td>3</td>\n",
       "      <td>1</td>\n",
       "    </tr>\n",
       "    <tr>\n",
       "      <th>Z</th>\n",
       "      <td>0</td>\n",
       "      <td>1</td>\n",
       "    </tr>\n",
       "    <tr>\n",
       "      <th rowspan=\"2\" valign=\"top\">D</th>\n",
       "      <th>Y</th>\n",
       "      <td>0</td>\n",
       "      <td>1</td>\n",
       "    </tr>\n",
       "    <tr>\n",
       "      <th>Z</th>\n",
       "      <td>3</td>\n",
       "      <td>1</td>\n",
       "    </tr>\n",
       "  </tbody>\n",
       "</table>\n",
       "</div>\n",
       "      <button class=\"colab-df-convert\" onclick=\"convertToInteractive('df-e1487474-4d59-45c3-add0-d14065870d85')\"\n",
       "              title=\"Convert this dataframe to an interactive table.\"\n",
       "              style=\"display:none;\">\n",
       "        \n",
       "  <svg xmlns=\"http://www.w3.org/2000/svg\" height=\"24px\"viewBox=\"0 0 24 24\"\n",
       "       width=\"24px\">\n",
       "    <path d=\"M0 0h24v24H0V0z\" fill=\"none\"/>\n",
       "    <path d=\"M18.56 5.44l.94 2.06.94-2.06 2.06-.94-2.06-.94-.94-2.06-.94 2.06-2.06.94zm-11 1L8.5 8.5l.94-2.06 2.06-.94-2.06-.94L8.5 2.5l-.94 2.06-2.06.94zm10 10l.94 2.06.94-2.06 2.06-.94-2.06-.94-.94-2.06-.94 2.06-2.06.94z\"/><path d=\"M17.41 7.96l-1.37-1.37c-.4-.4-.92-.59-1.43-.59-.52 0-1.04.2-1.43.59L10.3 9.45l-7.72 7.72c-.78.78-.78 2.05 0 2.83L4 21.41c.39.39.9.59 1.41.59.51 0 1.02-.2 1.41-.59l7.78-7.78 2.81-2.81c.8-.78.8-2.07 0-2.86zM5.41 20L4 18.59l7.72-7.72 1.47 1.35L5.41 20z\"/>\n",
       "  </svg>\n",
       "      </button>\n",
       "      \n",
       "  <style>\n",
       "    .colab-df-container {\n",
       "      display:flex;\n",
       "      flex-wrap:wrap;\n",
       "      gap: 12px;\n",
       "    }\n",
       "\n",
       "    .colab-df-convert {\n",
       "      background-color: #E8F0FE;\n",
       "      border: none;\n",
       "      border-radius: 50%;\n",
       "      cursor: pointer;\n",
       "      display: none;\n",
       "      fill: #1967D2;\n",
       "      height: 32px;\n",
       "      padding: 0 0 0 0;\n",
       "      width: 32px;\n",
       "    }\n",
       "\n",
       "    .colab-df-convert:hover {\n",
       "      background-color: #E2EBFA;\n",
       "      box-shadow: 0px 1px 2px rgba(60, 64, 67, 0.3), 0px 1px 3px 1px rgba(60, 64, 67, 0.15);\n",
       "      fill: #174EA6;\n",
       "    }\n",
       "\n",
       "    [theme=dark] .colab-df-convert {\n",
       "      background-color: #3B4455;\n",
       "      fill: #D2E3FC;\n",
       "    }\n",
       "\n",
       "    [theme=dark] .colab-df-convert:hover {\n",
       "      background-color: #434B5C;\n",
       "      box-shadow: 0px 1px 3px 1px rgba(0, 0, 0, 0.15);\n",
       "      filter: drop-shadow(0px 1px 2px rgba(0, 0, 0, 0.3));\n",
       "      fill: #FFFFFF;\n",
       "    }\n",
       "  </style>\n",
       "\n",
       "      <script>\n",
       "        const buttonEl =\n",
       "          document.querySelector('#df-e1487474-4d59-45c3-add0-d14065870d85 button.colab-df-convert');\n",
       "        buttonEl.style.display =\n",
       "          google.colab.kernel.accessAllowed ? 'block' : 'none';\n",
       "\n",
       "        async function convertToInteractive(key) {\n",
       "          const element = document.querySelector('#df-e1487474-4d59-45c3-add0-d14065870d85');\n",
       "          const dataTable =\n",
       "            await google.colab.kernel.invokeFunction('convertToInteractive',\n",
       "                                                     [key], {});\n",
       "          if (!dataTable) return;\n",
       "\n",
       "          const docLinkHtml = 'Like what you see? Visit the ' +\n",
       "            '<a target=\"_blank\" href=https://colab.research.google.com/notebooks/data_table.ipynb>data table notebook</a>'\n",
       "            + ' to learn more about interactive tables.';\n",
       "          element.innerHTML = '';\n",
       "          dataTable['output_type'] = 'display_data';\n",
       "          await google.colab.output.renderOutput(dataTable, element);\n",
       "          const docLink = document.createElement('div');\n",
       "          docLink.innerHTML = docLinkHtml;\n",
       "          element.appendChild(docLink);\n",
       "        }\n",
       "      </script>\n",
       "    </div>\n",
       "  </div>\n",
       "  "
      ],
      "text/plain": [
       "Division     A  B\n",
       "Team League      \n",
       "A    Y       2  2\n",
       "     Z       0  1\n",
       "B    Y       0  1\n",
       "     Z       2  2\n",
       "C    Y       3  1\n",
       "     Z       0  1\n",
       "D    Y       0  1\n",
       "     Z       3  1"
      ]
     },
     "metadata": {},
     "output_type": "display_data"
    }
   ],
   "source": [
    "# Contigency Table - between two features\n",
    "contg_table1 = pd.crosstab(df['Team'], df['League'], margins = False)\n",
    "contg_table2 = pd.crosstab([df['Team'], df['League']], df['Division'], margins = False)"
   ]
  },
  {
   "cell_type": "markdown",
   "metadata": {},
   "source": [
    "## Quantitative Variables"
   ]
  },
  {
   "cell_type": "code",
   "execution_count": null,
   "metadata": {},
   "outputs": [],
   "source": [
    "import statistics\n",
    "\n",
    "val_avg = [2,4,9,20,11,15,19,30]\n",
    "val_med_odd = [12, 13, 10, 15, 7]\n",
    "val_med_even = [12, 13, 10, 15, 7, 9]\n",
    "val_mode = ['good', 'bad', 'normal', 'good', 'good']\n",
    "val_var_std = [2, 2.5, 5, 3.1, 1.75, 2.8]"
   ]
  },
  {
   "cell_type": "code",
   "execution_count": null,
   "metadata": {},
   "outputs": [],
   "source": [
    "# Central Tendency Measures\n",
    "print(\"Mean: \",statistics.mean(val_avg))\n",
    "print(\"Median for the odd example is \",statistics.median(val_med_odd))\n",
    "print(\"Median for the even example is \",statistics.median(val_med_even))\n",
    "print(\"Mode for the dataset is \",statistics.mode(val_mode))\n",
    "\n",
    "# Dispersion Measure\n",
    "print(\"Variance: \",statistics.variance(val_var_std))\n",
    "print(\"Std: \",statistics.stdev(val_var_std))"
   ]
  },
  {
   "cell_type": "markdown",
   "metadata": {},
   "source": [
    "## Association and Correlations"
   ]
  },
  {
   "cell_type": "code",
   "execution_count": null,
   "metadata": {},
   "outputs": [],
   "source": [
    "import pandas as pd\n",
    "import numpy as np\n",
    "\n",
    "df = pd.DataFrame([['A', 'Z', 'B', 65, 10, 26, 98], ['B', 'Y', 'B', 25, 15, 21, 89], ['A', 'Y', 'B', 13, 23, 25, 99], ['B', 'Z', 'B', 25, 23, 20, 88],\n",
    "                   ['C', 'Y', 'B', 15, 19, 5, 90],  ['D', 'Z', 'B', 18, 11, 5, 97],  ['A', 'Y', 'B', 13, 23, 25, 99], ['B', 'Z', 'B', 25, 23, 20, 88],\n",
    "                   ['A', 'Y', 'A', 13, 23, 25, 99], ['B', 'Z', 'A', 25, 23, 20, 88], ['C', 'Y', 'A', 15, 19, 5, 90],  ['D', 'Z', 'A', 18, 11, 5, 97],\n",
    "                   ['A', 'Y', 'A', 13, 23, 25, 99], ['B', 'Z', 'A', 25, 23, 20, 88], ['C', 'Y', 'A', 15, 19, 5, 90],  ['D', 'Z', 'A', 18, 11, 5, 97],\n",
    "                   ['C', 'Y', 'A', 15, 19, 5, 90],  ['D', 'Z', 'A', 18, 11, 5, 97],  ['C', 'Z', 'B', 15, 17, 6, 80],  ['D', 'Y', 'B', 19, 13, 5, 98]],\n",
    "                  columns=['Team', 'League', 'Division', 'Round 2', 'Round 3', 'Round 4', 'Final'])"
   ]
  },
  {
   "cell_type": "code",
   "execution_count": null,
   "metadata": {},
   "outputs": [],
   "source": [
    "# Association\n",
    "import scipy.stats as stats\n",
    "contg_table = pd.crosstab(df['Team'], df['League'], margins = False)\n",
    "\n",
    "#Chi-Square\n",
    "# chi2: test statistic / assocition value - p: p-value of the test\n",
    "# expected: ndarray, expected frequencies - dof: fegrees of freedom\n",
    "chi2, p, dof, expected = stats.chi2_contingency(contg_table, correction=False)\n",
    "\n",
    "#Cramer V\n",
    "X2 = stats.chi2_contingency(contg_table, correction=False)[0]\n",
    "N = np.sum(np.sum(contg_table))\n",
    "minDim = min(contg_table.shape)-1\n",
    "cramerV = np.sqrt((X2/N) / minDim)\n",
    "\n",
    "#Joint Prob Dist\n",
    "joint_prob = df.value_counts(['Team', 'League'], normalize=True)"
   ]
  },
  {
   "cell_type": "code",
   "execution_count": null,
   "metadata": {},
   "outputs": [
    {
     "data": {
      "text/html": [
       "\n",
       "  <div id=\"df-b5c96634-e8bb-447b-b93c-5e56b69f999f\">\n",
       "    <div class=\"colab-df-container\">\n",
       "      <div>\n",
       "<style scoped>\n",
       "    .dataframe tbody tr th:only-of-type {\n",
       "        vertical-align: middle;\n",
       "    }\n",
       "\n",
       "    .dataframe tbody tr th {\n",
       "        vertical-align: top;\n",
       "    }\n",
       "\n",
       "    .dataframe thead th {\n",
       "        text-align: right;\n",
       "    }\n",
       "</style>\n",
       "<table border=\"1\" class=\"dataframe\">\n",
       "  <thead>\n",
       "    <tr style=\"text-align: right;\">\n",
       "      <th></th>\n",
       "      <th>Round 2</th>\n",
       "      <th>Round 3</th>\n",
       "      <th>Round 4</th>\n",
       "      <th>Final</th>\n",
       "    </tr>\n",
       "  </thead>\n",
       "  <tbody>\n",
       "    <tr>\n",
       "      <th>Round 2</th>\n",
       "      <td>1.000000</td>\n",
       "      <td>-0.331040</td>\n",
       "      <td>0.343972</td>\n",
       "      <td>0.020510</td>\n",
       "    </tr>\n",
       "    <tr>\n",
       "      <th>Round 3</th>\n",
       "      <td>-0.331040</td>\n",
       "      <td>1.000000</td>\n",
       "      <td>0.548180</td>\n",
       "      <td>-0.267832</td>\n",
       "    </tr>\n",
       "    <tr>\n",
       "      <th>Round 4</th>\n",
       "      <td>0.343972</td>\n",
       "      <td>0.548180</td>\n",
       "      <td>1.000000</td>\n",
       "      <td>0.205980</td>\n",
       "    </tr>\n",
       "    <tr>\n",
       "      <th>Final</th>\n",
       "      <td>0.020510</td>\n",
       "      <td>-0.267832</td>\n",
       "      <td>0.205980</td>\n",
       "      <td>1.000000</td>\n",
       "    </tr>\n",
       "  </tbody>\n",
       "</table>\n",
       "</div>\n",
       "      <button class=\"colab-df-convert\" onclick=\"convertToInteractive('df-b5c96634-e8bb-447b-b93c-5e56b69f999f')\"\n",
       "              title=\"Convert this dataframe to an interactive table.\"\n",
       "              style=\"display:none;\">\n",
       "        \n",
       "  <svg xmlns=\"http://www.w3.org/2000/svg\" height=\"24px\"viewBox=\"0 0 24 24\"\n",
       "       width=\"24px\">\n",
       "    <path d=\"M0 0h24v24H0V0z\" fill=\"none\"/>\n",
       "    <path d=\"M18.56 5.44l.94 2.06.94-2.06 2.06-.94-2.06-.94-.94-2.06-.94 2.06-2.06.94zm-11 1L8.5 8.5l.94-2.06 2.06-.94-2.06-.94L8.5 2.5l-.94 2.06-2.06.94zm10 10l.94 2.06.94-2.06 2.06-.94-2.06-.94-.94-2.06-.94 2.06-2.06.94z\"/><path d=\"M17.41 7.96l-1.37-1.37c-.4-.4-.92-.59-1.43-.59-.52 0-1.04.2-1.43.59L10.3 9.45l-7.72 7.72c-.78.78-.78 2.05 0 2.83L4 21.41c.39.39.9.59 1.41.59.51 0 1.02-.2 1.41-.59l7.78-7.78 2.81-2.81c.8-.78.8-2.07 0-2.86zM5.41 20L4 18.59l7.72-7.72 1.47 1.35L5.41 20z\"/>\n",
       "  </svg>\n",
       "      </button>\n",
       "      \n",
       "  <style>\n",
       "    .colab-df-container {\n",
       "      display:flex;\n",
       "      flex-wrap:wrap;\n",
       "      gap: 12px;\n",
       "    }\n",
       "\n",
       "    .colab-df-convert {\n",
       "      background-color: #E8F0FE;\n",
       "      border: none;\n",
       "      border-radius: 50%;\n",
       "      cursor: pointer;\n",
       "      display: none;\n",
       "      fill: #1967D2;\n",
       "      height: 32px;\n",
       "      padding: 0 0 0 0;\n",
       "      width: 32px;\n",
       "    }\n",
       "\n",
       "    .colab-df-convert:hover {\n",
       "      background-color: #E2EBFA;\n",
       "      box-shadow: 0px 1px 2px rgba(60, 64, 67, 0.3), 0px 1px 3px 1px rgba(60, 64, 67, 0.15);\n",
       "      fill: #174EA6;\n",
       "    }\n",
       "\n",
       "    [theme=dark] .colab-df-convert {\n",
       "      background-color: #3B4455;\n",
       "      fill: #D2E3FC;\n",
       "    }\n",
       "\n",
       "    [theme=dark] .colab-df-convert:hover {\n",
       "      background-color: #434B5C;\n",
       "      box-shadow: 0px 1px 3px 1px rgba(0, 0, 0, 0.15);\n",
       "      filter: drop-shadow(0px 1px 2px rgba(0, 0, 0, 0.3));\n",
       "      fill: #FFFFFF;\n",
       "    }\n",
       "  </style>\n",
       "\n",
       "      <script>\n",
       "        const buttonEl =\n",
       "          document.querySelector('#df-b5c96634-e8bb-447b-b93c-5e56b69f999f button.colab-df-convert');\n",
       "        buttonEl.style.display =\n",
       "          google.colab.kernel.accessAllowed ? 'block' : 'none';\n",
       "\n",
       "        async function convertToInteractive(key) {\n",
       "          const element = document.querySelector('#df-b5c96634-e8bb-447b-b93c-5e56b69f999f');\n",
       "          const dataTable =\n",
       "            await google.colab.kernel.invokeFunction('convertToInteractive',\n",
       "                                                     [key], {});\n",
       "          if (!dataTable) return;\n",
       "\n",
       "          const docLinkHtml = 'Like what you see? Visit the ' +\n",
       "            '<a target=\"_blank\" href=https://colab.research.google.com/notebooks/data_table.ipynb>data table notebook</a>'\n",
       "            + ' to learn more about interactive tables.';\n",
       "          element.innerHTML = '';\n",
       "          dataTable['output_type'] = 'display_data';\n",
       "          await google.colab.output.renderOutput(dataTable, element);\n",
       "          const docLink = document.createElement('div');\n",
       "          docLink.innerHTML = docLinkHtml;\n",
       "          element.appendChild(docLink);\n",
       "        }\n",
       "      </script>\n",
       "    </div>\n",
       "  </div>\n",
       "  "
      ],
      "text/plain": [
       "          Round 2   Round 3   Round 4     Final\n",
       "Round 2  1.000000 -0.331040  0.343972  0.020510\n",
       "Round 3 -0.331040  1.000000  0.548180 -0.267832\n",
       "Round 4  0.343972  0.548180  1.000000  0.205980\n",
       "Final    0.020510 -0.267832  0.205980  1.000000"
      ]
     },
     "metadata": {},
     "output_type": "display_data"
    }
   ],
   "source": [
    "# Correlation - see more in AIMLPython.FeatureSelection.Correlation\n",
    "df.corr(method='pearson') #or kendall, spearman"
   ]
  },
  {
   "cell_type": "markdown",
   "metadata": {},
   "source": [
    "## Probability"
   ]
  },
  {
   "cell_type": "markdown",
   "metadata": {},
   "source": [
    "## Distribution"
   ]
  },
  {
   "cell_type": "code",
   "execution_count": null,
   "metadata": {},
   "outputs": [],
   "source": [
    "from scipy.stats import binom\n",
    "from scipy.stats import norm\n",
    "from scipy.stats import t\n",
    "from scipy.stats import bernoulli\n",
    "from scipy.stats import expon\n",
    "\n",
    "from scipy.stats import poisson\n",
    "from scipy import stats\n",
    "import matplotlib.pyplot as plt"
   ]
  },
  {
   "cell_type": "markdown",
   "metadata": {},
   "source": [
    "### discrete"
   ]
  },
  {
   "cell_type": "code",
   "execution_count": null,
   "metadata": {},
   "outputs": [],
   "source": [
    "#Bernoulli\n",
    "\n",
    "prob = 0.6        #probability of a single success\n",
    "outcome = [0, 1]  #outcome of the experiment\n",
    "\n",
    "#generated random elements\n",
    "rdm = bernoulli.rvs(size=1000, p=prob)\n",
    "\n",
    "#probability mass function\n",
    "prob1 = bernoulli.pmf(outcome, prob)"
   ]
  },
  {
   "cell_type": "code",
   "execution_count": null,
   "metadata": {},
   "outputs": [
    {
     "data": {
      "text/plain": [
       "0.8125"
      ]
     },
     "metadata": {},
     "output_type": "display_data"
    }
   ],
   "source": [
    "#Binomial - toss a coin 5 times and come up heads 3 times (prob1); less than 3 (prob2); more than 3 (prob3)\n",
    "\n",
    "x = 3   #numb of success\n",
    "n = 5   #numb of move\n",
    "p = 0.5 #prob of each element be choosen\n",
    "\n",
    "#generated random elements\n",
    "rdm = binom.rvs(n, p, size=1000)\n",
    "\n",
    "#probability mass function\n",
    "prob1 = binom.pmf(x, n, p)\n",
    "\n",
    "#cumulative distribution function\n",
    "prob2 = binom.cdf(x, n, p)\n",
    "\n",
    "#survival function, same as 1-cdf\n",
    "prob3 = binom.sf(x, n, p)"
   ]
  },
  {
   "cell_type": "code",
   "execution_count": null,
   "metadata": {},
   "outputs": [],
   "source": [
    "#Poisson - 3 accidents occur (prob1); less than 3 (prob2); more than 3 (prob3)\n",
    "\n",
    "x, lambdA = 3, 2\n",
    "\n",
    "#probability mass function\n",
    "prob1 = poisson.pmf(x, lambdA)\n",
    "\n",
    "#cumulative distribution function\n",
    "prob2 = poisson.cdf(x, lambdA)\n",
    "\n",
    "#survival function, same as 1-cdf\n",
    "prob3 = poisson.sf(x, lambdA)"
   ]
  },
  {
   "cell_type": "markdown",
   "metadata": {},
   "source": [
    "### continuous"
   ]
  },
  {
   "cell_type": "code",
   "execution_count": null,
   "metadata": {},
   "outputs": [
    {
     "data": {
      "text/plain": [
       "0.12098536225957168"
      ]
     },
     "metadata": {},
     "output_type": "display_data"
    }
   ],
   "source": [
    "#Normal - exclude objs with weight = 6 (prob1); < 6 (prob2); > 6 (prob3)\n",
    "\n",
    "#avg and std\n",
    "u, dp = 8, 2\n",
    "\n",
    "#generated random elements\n",
    "rdm = norm.rvs(size = 20)\n",
    "\n",
    "#probability density function\n",
    "prob1 = norm.pdf(6, u, dp)\n",
    "\n",
    "#cumulative distribution function\n",
    "prob2 = norm.cdf(6, u, dp)\n",
    "\n",
    "#survival function, same as 1-cdf()\n",
    "prob3 = norm.sf(6, u, dp)"
   ]
  },
  {
   "cell_type": "code",
   "execution_count": null,
   "metadata": {},
   "outputs": [],
   "source": [
    "#tStudent - exclude people with salary = 80 (prob1); < 80 (prob2); > 80 (prob3)\n",
    "\n",
    "T, deg_freedom = 1.5, 8\n",
    "\n",
    "#generated random elements\n",
    "rdm = t.rvs(deg_freedom, size = 20)\n",
    "\n",
    "#probability density function\n",
    "prob1 = t.pdf(T, deg_freedom)\n",
    "\n",
    "#cumulative distribution function\n",
    "prob2 = t.cdf(T, deg_freedom)\n",
    "\n",
    "#survival function, same as 1-cdf()\n",
    "prob3 = t.sf(T, deg_freedom)"
   ]
  },
  {
   "cell_type": "code",
   "execution_count": null,
   "metadata": {},
   "outputs": [],
   "source": [
    "#Exponential - 40 min is the time between eruptions for a geyser\n",
    "#                     the prob to wait 50 min (prob1); less than 50 (prob2); more than 50 min (prob3)\n",
    "\n",
    "#lambda and values\n",
    "rate, x = 40, 50\n",
    "\n",
    "#generated random elements\n",
    "rdm = expon.rvs(scale=rate, size=10)\n",
    "\n",
    "#probability density function\n",
    "prob1 = expon.pdf(x, rate)\n",
    "\n",
    "#cumulative distribution function\n",
    "prob2 = expon.cdf(x, rate)\n",
    "\n",
    "#survival function, same as 1-cdf()\n",
    "prob3 = expon.sf(x, rate)"
   ]
  },
  {
   "cell_type": "code",
   "execution_count": null,
   "metadata": {},
   "outputs": [],
   "source": [
    "#Chi-Squared"
   ]
  },
  {
   "cell_type": "markdown",
   "metadata": {},
   "source": [
    "## Sampling"
   ]
  },
  {
   "cell_type": "code",
   "execution_count": null,
   "metadata": {},
   "outputs": [],
   "source": [
    "import numpy as np\n",
    "import pandas as pd\n",
    "from sklearn.model_selection import train_test_split\n",
    "from math import ceil\n",
    "\n",
    "df = pd.read_csv(PYTHON_PATH + 'data/iris.csv')"
   ]
  },
  {
   "cell_type": "code",
   "execution_count": null,
   "metadata": {},
   "outputs": [
    {
     "data": {
      "text/html": [
       "\n",
       "  <div id=\"df-2de5f677-8902-444d-9df8-a6aafa07571a\">\n",
       "    <div class=\"colab-df-container\">\n",
       "      <div>\n",
       "<style scoped>\n",
       "    .dataframe tbody tr th:only-of-type {\n",
       "        vertical-align: middle;\n",
       "    }\n",
       "\n",
       "    .dataframe tbody tr th {\n",
       "        vertical-align: top;\n",
       "    }\n",
       "\n",
       "    .dataframe thead th {\n",
       "        text-align: right;\n",
       "    }\n",
       "</style>\n",
       "<table border=\"1\" class=\"dataframe\">\n",
       "  <thead>\n",
       "    <tr style=\"text-align: right;\">\n",
       "      <th></th>\n",
       "      <th>sepal length</th>\n",
       "      <th>sepal width</th>\n",
       "      <th>petal length</th>\n",
       "      <th>petal width</th>\n",
       "      <th>class</th>\n",
       "    </tr>\n",
       "  </thead>\n",
       "  <tbody>\n",
       "    <tr>\n",
       "      <th>3</th>\n",
       "      <td>4.6</td>\n",
       "      <td>3.1</td>\n",
       "      <td>1.5</td>\n",
       "      <td>0.2</td>\n",
       "      <td>Iris-setosa</td>\n",
       "    </tr>\n",
       "    <tr>\n",
       "      <th>23</th>\n",
       "      <td>5.1</td>\n",
       "      <td>3.3</td>\n",
       "      <td>1.7</td>\n",
       "      <td>0.5</td>\n",
       "      <td>Iris-setosa</td>\n",
       "    </tr>\n",
       "    <tr>\n",
       "      <th>35</th>\n",
       "      <td>5.0</td>\n",
       "      <td>3.2</td>\n",
       "      <td>1.2</td>\n",
       "      <td>0.2</td>\n",
       "      <td>Iris-setosa</td>\n",
       "    </tr>\n",
       "    <tr>\n",
       "      <th>2</th>\n",
       "      <td>4.7</td>\n",
       "      <td>3.2</td>\n",
       "      <td>1.3</td>\n",
       "      <td>0.2</td>\n",
       "      <td>Iris-setosa</td>\n",
       "    </tr>\n",
       "    <tr>\n",
       "      <th>71</th>\n",
       "      <td>6.1</td>\n",
       "      <td>2.8</td>\n",
       "      <td>4.0</td>\n",
       "      <td>1.3</td>\n",
       "      <td>Iris-versicolor</td>\n",
       "    </tr>\n",
       "  </tbody>\n",
       "</table>\n",
       "</div>\n",
       "      <button class=\"colab-df-convert\" onclick=\"convertToInteractive('df-2de5f677-8902-444d-9df8-a6aafa07571a')\"\n",
       "              title=\"Convert this dataframe to an interactive table.\"\n",
       "              style=\"display:none;\">\n",
       "        \n",
       "  <svg xmlns=\"http://www.w3.org/2000/svg\" height=\"24px\"viewBox=\"0 0 24 24\"\n",
       "       width=\"24px\">\n",
       "    <path d=\"M0 0h24v24H0V0z\" fill=\"none\"/>\n",
       "    <path d=\"M18.56 5.44l.94 2.06.94-2.06 2.06-.94-2.06-.94-.94-2.06-.94 2.06-2.06.94zm-11 1L8.5 8.5l.94-2.06 2.06-.94-2.06-.94L8.5 2.5l-.94 2.06-2.06.94zm10 10l.94 2.06.94-2.06 2.06-.94-2.06-.94-.94-2.06-.94 2.06-2.06.94z\"/><path d=\"M17.41 7.96l-1.37-1.37c-.4-.4-.92-.59-1.43-.59-.52 0-1.04.2-1.43.59L10.3 9.45l-7.72 7.72c-.78.78-.78 2.05 0 2.83L4 21.41c.39.39.9.59 1.41.59.51 0 1.02-.2 1.41-.59l7.78-7.78 2.81-2.81c.8-.78.8-2.07 0-2.86zM5.41 20L4 18.59l7.72-7.72 1.47 1.35L5.41 20z\"/>\n",
       "  </svg>\n",
       "      </button>\n",
       "      \n",
       "  <style>\n",
       "    .colab-df-container {\n",
       "      display:flex;\n",
       "      flex-wrap:wrap;\n",
       "      gap: 12px;\n",
       "    }\n",
       "\n",
       "    .colab-df-convert {\n",
       "      background-color: #E8F0FE;\n",
       "      border: none;\n",
       "      border-radius: 50%;\n",
       "      cursor: pointer;\n",
       "      display: none;\n",
       "      fill: #1967D2;\n",
       "      height: 32px;\n",
       "      padding: 0 0 0 0;\n",
       "      width: 32px;\n",
       "    }\n",
       "\n",
       "    .colab-df-convert:hover {\n",
       "      background-color: #E2EBFA;\n",
       "      box-shadow: 0px 1px 2px rgba(60, 64, 67, 0.3), 0px 1px 3px 1px rgba(60, 64, 67, 0.15);\n",
       "      fill: #174EA6;\n",
       "    }\n",
       "\n",
       "    [theme=dark] .colab-df-convert {\n",
       "      background-color: #3B4455;\n",
       "      fill: #D2E3FC;\n",
       "    }\n",
       "\n",
       "    [theme=dark] .colab-df-convert:hover {\n",
       "      background-color: #434B5C;\n",
       "      box-shadow: 0px 1px 3px 1px rgba(0, 0, 0, 0.15);\n",
       "      filter: drop-shadow(0px 1px 2px rgba(0, 0, 0, 0.3));\n",
       "      fill: #FFFFFF;\n",
       "    }\n",
       "  </style>\n",
       "\n",
       "      <script>\n",
       "        const buttonEl =\n",
       "          document.querySelector('#df-2de5f677-8902-444d-9df8-a6aafa07571a button.colab-df-convert');\n",
       "        buttonEl.style.display =\n",
       "          google.colab.kernel.accessAllowed ? 'block' : 'none';\n",
       "\n",
       "        async function convertToInteractive(key) {\n",
       "          const element = document.querySelector('#df-2de5f677-8902-444d-9df8-a6aafa07571a');\n",
       "          const dataTable =\n",
       "            await google.colab.kernel.invokeFunction('convertToInteractive',\n",
       "                                                     [key], {});\n",
       "          if (!dataTable) return;\n",
       "\n",
       "          const docLinkHtml = 'Like what you see? Visit the ' +\n",
       "            '<a target=\"_blank\" href=https://colab.research.google.com/notebooks/data_table.ipynb>data table notebook</a>'\n",
       "            + ' to learn more about interactive tables.';\n",
       "          element.innerHTML = '';\n",
       "          dataTable['output_type'] = 'display_data';\n",
       "          await google.colab.output.renderOutput(dataTable, element);\n",
       "          const docLink = document.createElement('div');\n",
       "          docLink.innerHTML = docLinkHtml;\n",
       "          element.appendChild(docLink);\n",
       "        }\n",
       "      </script>\n",
       "    </div>\n",
       "  </div>\n",
       "  "
      ],
      "text/plain": [
       "    sepal length  sepal width  petal length  petal width            class\n",
       "3            4.6          3.1           1.5          0.2      Iris-setosa\n",
       "23           5.1          3.3           1.7          0.5      Iris-setosa\n",
       "35           5.0          3.2           1.2          0.2      Iris-setosa\n",
       "2            4.7          3.2           1.3          0.2      Iris-setosa\n",
       "71           6.1          2.8           4.0          1.3  Iris-versicolor"
      ]
     },
     "metadata": {},
     "output_type": "display_data"
    }
   ],
   "source": [
    "# Simple Sampling\n",
    "\n",
    "#prob to select each element - optional\n",
    "prob = [0.006]*(df.shape[0]-1)\n",
    "prob.append(0.106)\n",
    "\n",
    "#use replace=True to do with replacement\n",
    "sample = df.iloc[np.random.choice(range(df.shape[0]), size=5, replace=False, p=prob)]\n",
    "sample"
   ]
  },
  {
   "cell_type": "code",
   "execution_count": null,
   "metadata": {},
   "outputs": [],
   "source": [
    "# Stratified Sampling - group by the strata/class\n",
    "\n",
    "#disproportionately - select 4 from each strata\n",
    "disp = df.groupby('class', group_keys=False).apply(lambda x: x.sample(4))\n",
    "\n",
    "#proportionately - 0.1 = 10%\n",
    "prop = df.groupby('class', group_keys=False).apply(lambda x: x.sample(frac=0.1))"
   ]
  },
  {
   "cell_type": "code",
   "execution_count": null,
   "metadata": {},
   "outputs": [],
   "source": [
    "# Systematic Sampling\n",
    "\n",
    "#define population and sample size\n",
    "pop_size = len(df.iloc[:,0])\n",
    "sample_size = 5\n",
    "\n",
    "#define size of step and the first idx to get\n",
    "step = ceil(pop_size/sample_size)\n",
    "start = np.random.randint(low=1,high=step+1,size=1)[0]\n",
    "\n",
    "#get elements\n",
    "selected = []\n",
    "for i in range(sample_size):\n",
    "    selected.append(start)\n",
    "    start += step\n",
    "sample = df.iloc[selected,:]"
   ]
  },
  {
   "cell_type": "code",
   "execution_count": null,
   "metadata": {},
   "outputs": [],
   "source": [
    "# Cluster Sampling\n",
    "\n",
    "def get_cluster_sample(df, n_per_cluster, num_select_clusters):\n",
    "  N, data = len(df), None\n",
    "  K = int(N/n_per_cluster) #qty of cluster\n",
    "\n",
    "  # for each cluster\n",
    "  for k in range(K):\n",
    "    sample_k = df.sample(n_per_cluster) # create cluster, can be changed to be\n",
    "    sample_k[\"cluster\"] = np.repeat(k, len(sample_k)) # based on some characteristics\n",
    "    df = df.drop(index = sample_k.index)\n",
    "    data = pd.concat([data, sample_k], axis=0)\n",
    "\n",
    "  # cluster to be returned\n",
    "  random_chosen_clusters = np.random.randint(0, K, size=num_select_clusters)\n",
    "  samples = data[data.cluster.isin(random_chosen_clusters)]\n",
    "  return samples\n",
    "\n",
    "sample = get_cluster_sample(df, 5, 1)"
   ]
  },
  {
   "cell_type": "markdown",
   "metadata": {},
   "source": [
    "## Statistical/Hypothesis Test"
   ]
  },
  {
   "cell_type": "code",
   "execution_count": null,
   "metadata": {},
   "outputs": [],
   "source": [
    "import scipy.stats as stats\n",
    "import numpy as np\n",
    "import statsmodels.stats.weightstats as statsmodels"
   ]
  },
  {
   "cell_type": "code",
   "execution_count": null,
   "metadata": {},
   "outputs": [],
   "source": [
    "# Hypothesis Tets - how to do it\n",
    "\n",
    "# chi-squared\n",
    "#Your code is valid. You use stats.chi2_contingency when you want to test whether two (or more) groups have the save distribution.\n",
    "#Null hypothesis: the two groups have no significant difference.\n",
    "#You use stats.chisquare when you want to test whether one (discrete) random variable has a specific distribution.\n",
    "#Null hypothesis: the random variable is not significantly different from the specified distribution.\n",
    "\n",
    "group1 = [456, 564, 54, 554, 54, 51, 1, 12, 45, 5]\n",
    "group2 = [65, 87, 456, 564, 456, 564, 564, 6, 4, 564]\n",
    "\n",
    "#Wilcoxon-Signed Rank Test\n",
    "W = stats.wilcoxon(group1, group2)\n",
    "\n",
    "\n",
    "#Test U Mann-whitney\n",
    "U = stats.mannwhitneyu(group1,group2)\n"
   ]
  },
  {
   "cell_type": "code",
   "execution_count": null,
   "metadata": {},
   "outputs": [
    {
     "data": {
      "text/plain": [
       "Ttest_relResult(statistic=-2.9732484231168796, pvalue=0.01007144862643272)"
      ]
     },
     "metadata": {},
     "output_type": "display_data"
    }
   ],
   "source": [
    "# test t\n",
    "\n",
    "# Shapiro wilk - verificar se é normal\n",
    "def e_normal(group):\n",
    "  wval, pval = stats.shapiro(group)\n",
    "  if len(group) > 5000:\n",
    "    if wval <0.05: return False\n",
    "    if pval < 0.05: return False\n",
    "  return True\n",
    "\n",
    "# equal variance test\n",
    "def var_igual(group1,group2):\n",
    "  _,pval = stats.levene(group1,group2)\n",
    "  if pval<0.05: return False\n",
    "  return True\n",
    "\n",
    "group1 = np.array([14, 15, 15, 16, 13, 8, 14, 17, 16, 14, 19, 20, 21, 15, 15, 16, 16, 13, 14, 12])\n",
    "group2 = np.array([15, 17, 14, 17, 14, 8, 12, 19, 19, 14, 17, 22, 24, 16, 13, 16, 13, 18, 15, 13])\n",
    "\n",
    "pre = [88, 82, 84, 93, 75, 78, 84, 87, 95, 91, 83, 89, 77, 68, 91]\n",
    "post = [91, 84, 88, 90, 79, 80, 88, 90, 90, 96, 88, 89, 81, 74, 92]\n",
    "\n",
    "w1Samp = stats.ttest_1samp(a=group1, popmean=15)\n",
    "w2Samp = stats.ttest_ind(group1, group2, equal_var=True)\n",
    "paired = stats.ttest_rel(pre, post)"
   ]
  },
  {
   "cell_type": "code",
   "execution_count": null,
   "metadata": {},
   "outputs": [
    {
     "data": {
      "text/plain": [
       "(-1.9953236073282115, 0.046007596761332065)"
      ]
     },
     "metadata": {},
     "output_type": "display_data"
    }
   ],
   "source": [
    "# test z\n",
    "\n",
    "data, mean = [88, 92, 94, 94, 96, 97, 97, 97, 99, 99, 105, 109, 109, 109, 110, 112, 112, 113], 100\n",
    "\n",
    "cityA = [82, 84, 85, 89, 91, 91, 92, 94, 99, 99, 105, 109, 109, 109, 110, 112, 112, 113, 114, 114]\n",
    "cityB = [90, 91, 91, 91, 95, 95, 99, 99, 108, 109, 109, 114, 115, 116, 117, 117, 128, 129, 130, 133]\n",
    "\n",
    "w1Samp = statsmodels.ztest(data, value=mean)\n",
    "w2Samp = statsmodels.ztest(cityA, cityB, value=0)"
   ]
  },
  {
   "cell_type": "code",
   "execution_count": null,
   "metadata": {},
   "outputs": [],
   "source": [
    "# anova\n",
    "\n",
    "import pandas as pd\n",
    "import matplotlib.pyplot as plt\n",
    "from scipy import stats\n",
    "import statsmodels.api as sm\n",
    "from statsmodels.formula.api import ols\n",
    "from statsmodels.stats.multicomp import MultiComparison\n",
    "\n",
    "tratamento = pd.read_csv('database/anova.csv',sep=';') #dados q serao utilizados\n",
    "modelo1 = ols('Horas ~ Remedio',data = tratamento).fit() #cria e treina o modelo ('V.Dependente ~ V.Independente')\n",
    "resul1 = sm.stats.anova_lm(modelo1) #realiza a avalição cm a anova\n",
    "\n",
    "modelo2 = ols('Horas ~ Remedio * Sexo',data = tratamento).fit() #cria e treina o modelo ('V.Dependente ~ V.Independente * V.Independente')\n",
    "resul2 = sm.stats.anova_lm(modelo2) #realiza a avalição cm a anova\n",
    "\n",
    "mc = MultiComparison(tratamento['Horas'],tratamento['Remedio']) #faz uma comparação entre as duas variaveis\n",
    "resul_test = mc.tukeyhsd() #realiza o teste TukeyHSD\n",
    "\n",
    "grafico = resul_test.plot_simultaneous() #grafico especial para demonstrar os dados\n",
    "#plt.show()"
   ]
  },
  {
   "cell_type": "markdown",
   "metadata": {},
   "source": [
    "### General Algorithm"
   ]
  },
  {
   "cell_type": "markdown",
   "metadata": {},
   "source": [
    "1.   Define a function draw_random_outcome. This function should return the outcome of a random trial, given that the null hypothesis is true. It may be a single number, an array, a list of arrays, an image, practically anything: it depends on the specific case. *Ingredient 1*\n",
    "\n",
    "2.   Define a function unexp_score (which stands for “unexpectedness score”). The function should take an experiment outcome as input, and return a single number. This number must be a score of how unexpected the outcome is, assuming it was generated under the null hypothesis. The score may be positive, negative, integer, or float, it doesn’t matter. The only property it must have is the following: the unlikelier the outcome is, the higher this score must be. *Ingredient 2*\n",
    "\n",
    "3.   Run many times (e.g. 10,000 times) the function draw_random_outcome (defined at point 1) and, for each random outcome, compute its unexp_score (defined at point 2). Store all the scores in an array called random_unexp_scores.\n",
    "\n",
    "4.   Compute unexp_score of the observed outcome, and call it observed_unexp_score.\n",
    "\n",
    "5.   Compute how many random outcomes are more unexpected than the observed outcome. That is to say, count how many elements of random_unexp_scores are higher than observed_unexp_score. This is the p-value.\n",
    "\n",
    "Ex: we have launched a die 10 times and obtained this outcome: 1, 1, 1, 1, 1, 2, 2, 2, 3, 3 and the null hypothesis say that the die is fair"
   ]
  },
  {
   "cell_type": "code",
   "execution_count": null,
   "metadata": {},
   "outputs": [
    {
     "data": {
      "text/plain": [
       "0.0196"
      ]
     },
     "metadata": {},
     "output_type": "display_data"
    }
   ],
   "source": [
    "import numpy as np\n",
    "\n",
    "# step 1\n",
    "def draw_random_outcome():\n",
    "  return np.random.choice([1,2,3,4,5,6], size=10)\n",
    "\n",
    "# step 2\n",
    "def unexp_score(outcome):\n",
    "  outcome_distribution = np.array([np.mean(outcome == face) for face in [1,2,3,4,5,6]])\n",
    "  return np.mean(np.abs(outcome_distribution - 1/6))\n",
    "\n",
    "# step 3\n",
    "n_iter = 10000\n",
    "random_unexp_scores = np.empty(n_iter)\n",
    "for i in range(n_iter):\n",
    "  random_unexp_scores[i] = unexp_score(draw_random_outcome())\n",
    "\n",
    "# step 4\n",
    "observed_unexp_score = unexp_score(np.array([1,1,1,1,1,2,2,2,3,3]))\n",
    "\n",
    "# step 5\n",
    "pvalue = np.sum(random_unexp_scores >= observed_unexp_score) / n_iter\n",
    "pvalue"
   ]
  },
  {
   "cell_type": "markdown",
   "metadata": {},
   "source": [
    "## Multivariate Analysis"
   ]
  }
 ],
 "metadata": {
  "language_info": {
   "name": "python"
  }
 },
 "nbformat": 4,
 "nbformat_minor": 2
}
