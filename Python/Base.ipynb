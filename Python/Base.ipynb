{
 "cells": [
  {
   "cell_type": "markdown",
   "metadata": {},
   "source": [
    "https://docs.python.org/release/3.10.2/reference/index.html\n",
    "\n",
    "https://www.w3schools.com/python/\n"
   ]
  },
  {
   "cell_type": "code",
   "execution_count": null,
   "metadata": {},
   "outputs": [
    {
     "name": "stdout",
     "output_type": "stream",
     "text": [
      "Print here, value 0.3333 e string texto\n"
     ]
    }
   ],
   "source": [
    "# Print\n",
    "var_str = 'texto'\n",
    "var_numb = 1\n",
    "print(f'Print: value {var_numb/3:.4f} e string {var_str}')"
   ]
  },
  {
   "cell_type": "markdown",
   "metadata": {},
   "source": [
    "## Variables & PEP8 & VirtualEnv & Build-in Funcs"
   ]
  },
  {
   "cell_type": "markdown",
   "metadata": {},
   "source": [
    "To creat a global variable inside a function, declare it using the keyword *global varName*.\n",
    "\n",
    "```\n",
    "def myfunc():\n",
    "  global x      #creat a global variable\n",
    "  x = 300\n",
    "myfunc()\n",
    "```\n",
    "\n",
    "If already exist a global variable, to make a change to it inside a function you need to declare it, *global varName*.\n",
    "\n",
    "\n",
    "\n",
    "```\n",
    "x = 300         #already a global variable\n",
    "def myfunc():\n",
    "  global x      #declare to make a change\n",
    "  x = 200\n",
    "myfunc()\n",
    "```\n",
    "\n"
   ]
  },
  {
   "cell_type": "code",
   "execution_count": null,
   "metadata": {},
   "outputs": [],
   "source": [
    "# Variables that will be use in this notebook\n",
    "\n",
    "var_str, var_str1 = '', 'String01'\n",
    "var_str2, var_str3 = 'String02', 'A cidade é legal. Mas barulhenta'\n",
    "var_strMultiLine = '''Lorem ipsum dolor sit amet,\n",
    "consectetur adipiscing elit,\n",
    "sed do eiusmod tempor incidiunt'''\n",
    "\n",
    "var_int, var_int2, var_int3 = 0, 51, -43\n",
    "var_float, var_float2, var_float3 = 0.0, 1.6180, 1e2 #1*10^2\n",
    "var_complex = 1j\n",
    "\n",
    "l_empty, l_01, l_02 = [], [12, 10.2, \"Universidade\"], [1, 8]\n",
    "ll_empty = [[]]\n",
    "\n",
    "dict_empty, dict_01 = {}, {\"Mateus\":24, \"Fernanda\":22}\n",
    "dict_02 = {'key1':1230,'key2':[22,453,73.4],'key3':['leite','maça','batata']}\n",
    "\n",
    "t_01, t_02 = (\"Geografia\", 23, \"Elefantes\"), ()\n",
    "\n",
    "s_01, s_02 = {\"Filosofia\", 98, \"Touro\"}, {}"
   ]
  },
  {
   "cell_type": "markdown",
   "metadata": {},
   "source": [
    "**PEP 8**\n",
    "0. General Rule\n",
    "  * Each row have the limit of 79 characters\n",
    "  * Use 4 spaces per indentation level\n",
    "  * use UTF-8 enconding\n",
    "  * use docstrings (\"\"\"--\\n--\\n\"\"\" OR \"\"\"--\"\"\") to describe modules, functions, classes and methods\n",
    "  * don't use ‘l’ (lower el), ‘O’ (upper oh), or ‘I’ (upper eye) as single character variable names - can be mismacht in some fonts (0 and 1)\n",
    "\n",
    "1. Naming Convention\n",
    "  * Function: function() OR my_function(arg1, arg2='')\n",
    "  * Variable: var OR my_variable\n",
    "  * Class/Model: Model OR MyClass\n",
    "  * Method: method OR class_method\n",
    "  * Constant: CONSTANT\n",
    "\n",
    "2. Blank Lines - the lines between code\n",
    "  * Top-level Functions and Class\n",
    "      - 2 blank lines - after and before\n",
    "  * Methods inside Class\n",
    "      - 1 blank line - after\n",
    "  * Inside Functions\n",
    "      - 1 blank lines - between logical blocks\n",
    "\n",
    "3. Imports Grouping\n",
    "  * Standard library\n",
    "  * Related third party\n",
    "  * Local application/library specific"
   ]
  },
  {
   "cell_type": "code",
   "execution_count": null,
   "metadata": {},
   "outputs": [],
   "source": [
    "# create and active virtual env\n",
    "sudo pip install virtualenv\n",
    "source <name>/bin/activate\n",
    "deactivate"
   ]
  },
  {
   "cell_type": "code",
   "execution_count": null,
   "metadata": {},
   "outputs": [],
   "source": [
    "# build-in funcs\n",
    "print(\"Hello Word\")   #output\n",
    "input('Write here:')  #input\n",
    "dir(l_empty)      #shows all methods and attributes of an object"
   ]
  },
  {
   "cell_type": "code",
   "execution_count": null,
   "metadata": {},
   "outputs": [
    {
     "name": "stdout",
     "output_type": "stream",
     "text": [
      "0x33\n",
      "0b110011\n"
     ]
    }
   ],
   "source": [
    "# numeral system conversion\n",
    "hex(var_int2) #hexadecimal\n",
    "bin(var_int2) #binary"
   ]
  },
  {
   "cell_type": "markdown",
   "metadata": {},
   "source": [
    "## Operators"
   ]
  },
  {
   "cell_type": "markdown",
   "metadata": {},
   "source": [
    "Mathematical\n",
    "\n",
    "*   Addition  -> +\n",
    "*   Subtraction  -> -\n",
    "*   Mutiplication  ->  *\n",
    "*   Divison       ->  /\n",
    "*   Floor Divison -> //\n",
    "*   Power      ->  **\n",
    "*   Modulus       ->  %\n",
    "\n",
    "When followed by the assigment operator '=', act like a assignment operators, i.e., x+=3 === x=x+3\n"
   ]
  },
  {
   "cell_type": "markdown",
   "metadata": {},
   "source": [
    "Logical, Comparison, Identity and Membership\n",
    "\n",
    "\n",
    "*   AND -> and\n",
    "*   OR -> or\n",
    "*   NOT  -> not\n",
    "*   Equals -> ==\n",
    "*   Not Equals -> !=\n",
    "*   Less than -> <\n",
    "*   Less than  or equal to -> <=\n",
    "*   Greater than -> >\n",
    "*   Greater than or equal to -> >=\n",
    "*   IS -> is - not is\n",
    "*   IN -> in - not in\n",
    "\n",
    "\n"
   ]
  },
  {
   "cell_type": "markdown",
   "metadata": {},
   "source": [
    "## Data Types"
   ]
  },
  {
   "cell_type": "markdown",
   "metadata": {},
   "source": [
    "There is a lot of different types:\n",
    "\n",
    "  - for **text**: *str*\n",
    "  - for **numeric**: *int*, *float* and *complex*\n",
    "  - for **sequence**: *list*, *tuple* and *range*\n",
    "  - for **mapping**: *dict*\n",
    "  - for **set**: *set* and *frozenset*\n",
    "  - for **boolean**: *bool*\n",
    "  - for **binary**: *bytes*, *bytearray* and *memoryview*."
   ]
  },
  {
   "cell_type": "code",
   "execution_count": null,
   "metadata": {},
   "outputs": [],
   "source": [
    "# return variable type\n",
    "type(var_str)\n",
    "\n",
    "# casting\n",
    "float(var_int)\n",
    "int(var_float2)\n",
    "str(var_float)\n",
    "list(t_01)\n",
    "tuple(l_02)\n",
    "bool(0)"
   ]
  },
  {
   "cell_type": "markdown",
   "metadata": {},
   "source": [
    "### String\n",
    "\n",
    "It is a list of character. Always surrounded by single or double quotation marks.\n",
    "\n",
    "Use '\\' as an escape character follow by the illegal characters in string that you wanna use."
   ]
  },
  {
   "cell_type": "code",
   "execution_count": null,
   "metadata": {},
   "outputs": [
    {
     "data": {
      "application/vnd.google.colaboratory.intrinsic+json": {
       "type": "string"
      },
      "text/plain": [
       "'Minha nota é: 9'"
      ]
     },
     "metadata": {},
     "output_type": "display_data"
    }
   ],
   "source": [
    "var_str2 + \" \" + var_str3 #concatenate\n",
    "f\"Minha nota é: {var_int}\"      #f-string"
   ]
  },
  {
   "cell_type": "code",
   "execution_count": null,
   "metadata": {},
   "outputs": [],
   "source": [
    "var_str2.upper()            #all character in upper case\n",
    "var_str2.lower()            #all character in lower case\n",
    "var_str3.split()            #split in all simple spaces\n",
    "var_str3.split('.')         #split in all points\n",
    "var_str3.strip()            #remove whitespace from the beginning and the end\n",
    "var_str3.replace('a','j',2) #replace 2 occurences (all is default) of a with j\n",
    "var_str2.capitalize()       #only first letter in upper case\n",
    "var_str2.count('a')         #counts the freq of a\n",
    "var_str2.find('a')          #returns the index from the first letter a"
   ]
  },
  {
   "cell_type": "code",
   "execution_count": null,
   "metadata": {},
   "outputs": [],
   "source": [
    "var_str2.isalnum()        #returns True if all the characters are alphanumeric\n",
    "var_str2.isalpha()        #returns True if all the characters are alphabet letters\n",
    "var_str2.islower()        #returns True if all the characters is in lower case\n",
    "var_str2.isspace()        #returns True if all the characters is in upper case\n",
    "var_str2.endswith('.')    #returns True if the last character is ."
   ]
  },
  {
   "cell_type": "code",
   "execution_count": null,
   "metadata": {},
   "outputs": [],
   "source": [
    "#is also valid for list/tuples\n",
    "var_str2[0]               #returns the character in index 0\n",
    "var_str2[2:]              #returns all character from index 2 (inclusive)\n",
    "var_str2[:2]              #returns all characters up to index 2 (non-inclusive)\n",
    "var_str2[:]               #returns all characters\n",
    "var_str2[-1]              #returns last character (-2 penultimate, and so on)"
   ]
  },
  {
   "cell_type": "markdown",
   "metadata": {},
   "source": [
    "## Data Collections (Array)"
   ]
  },
  {
   "cell_type": "markdown",
   "metadata": {},
   "source": [
    "### List\n",
    "\n",
    "[Value00, Value01, ...]\n",
    "\n",
    "Use to store multiple items from any type in a single variable. They're ordered, changeable, indexed, and allow duplicate members."
   ]
  },
  {
   "cell_type": "code",
   "execution_count": null,
   "metadata": {},
   "outputs": [],
   "source": [
    "l_01[0] = -1        #set a value in index 0\n",
    "l_01 + l_02         #concatenate two list\n",
    "10 in l_01          #returns True if the value belongs to the list"
   ]
  },
  {
   "cell_type": "code",
   "execution_count": null,
   "metadata": {},
   "outputs": [],
   "source": [
    "l_01.append(0)      #adds an item to the end of the list\n",
    "l_01.insert(1,'')   #adds an item in index 1\n",
    "l_01.extend(l_01)   #adds all the elements of an iterable (list, tuple, string etc.) to the end of the list\n",
    "l_01.remove(12)     #delete a item by its value\n",
    "l_01.pop(1)         #delete a item by its index, if not specify, remove the last one\n",
    "del l_01            #delete the list completely, o specified index using [idx]\n",
    "l_01.clear()        #clear the list content"
   ]
  },
  {
   "cell_type": "code",
   "execution_count": null,
   "metadata": {},
   "outputs": [],
   "source": [
    "len(l_01)           #returns the list lenght\n",
    "max(l_01)           #returns the maximum value\n",
    "min(l_01)           #returns the minimum value"
   ]
  },
  {
   "cell_type": "code",
   "execution_count": null,
   "metadata": {},
   "outputs": [],
   "source": [
    "l_01.count(0)       #counts the freq of the value 0\n",
    "l_01.index(0)       #return the position of the first item 0\n",
    "l_01.reverse()      #reversed the list\n",
    "l_01.copy()         #make a copy (l_01=l_02 reference to the same point, don't do it)\n",
    "l_01.sort()         #sorted the list (reverse=True to sort descending, key=MyFunc to apply in each item before ordering)"
   ]
  },
  {
   "cell_type": "markdown",
   "metadata": {},
   "source": [
    "### Tuples\n",
    "\n",
    "(Value00, Value01, ...)\n",
    "\n",
    "Use to store multiple items from any type in a single variable. They're ordered, unchangeable, indexed, and allow duplicate members."
   ]
  },
  {
   "cell_type": "code",
   "execution_count": null,
   "metadata": {},
   "outputs": [
    {
     "data": {
      "text/plain": [
       "[1230, [22, 453, 73.4], ['leite', 'maça', 'batata']]"
      ]
     },
     "metadata": {},
     "output_type": "display_data"
    }
   ],
   "source": [
    "del t_01                         #delete the tuple\n",
    "t_01 + t_02                      #concatenate two tuple\n",
    "0 in t_01                        #returns True if the value 0 belongs to the tuple\n",
    "len(t_01)                        #returns the tuple length\n",
    "t_01.index('Elefantes')          #returns the index of the value\n",
    "t_01.count('Geografia')          #returns the number of times Geografia occurs\n",
    "(studies, numb, animal) = l_01   #unpacking a tuple"
   ]
  },
  {
   "cell_type": "markdown",
   "metadata": {},
   "source": [
    "### Set\n",
    "\n",
    "{Value00, Value01, ...}\n",
    "\n",
    "Use to store multiple items from any type in a single variable. They're unordered, unchangeable (can add and remove), unindexed, and don't allow duplicate members."
   ]
  },
  {
   "cell_type": "code",
   "execution_count": null,
   "metadata": {},
   "outputs": [],
   "source": [
    "len(s_01)                       #returns the set length\n",
    "s_01.union(s_01)                #returns the union between s_01 and s_02 (will exclude any duplicates)\n",
    "s_01.intersection_uptade(s_02)  #return s_01 with the intersection between s_01 and s_02 (only the duplicates) (changed s_01)\n",
    "s_01.intersection(s_02)         #return a new set with the intersection between s_01 and s_02 (only the duplicates) (do not changed s_01)\n",
    "s_01.add('')                    #adds a item\n",
    "s_01.update(s_02)               #adds all the elements of an iterable (list, tuple, string etc.) to the end of the set (will exclude any duplicates)\n",
    "s_01.remove(12)                 #delete a item by its value (if value doesn't existe, raise an error)\n",
    "s_01.discard(12)                #delete a item by its value (if value doesn't existe, don't raise an error)\n",
    "s_01.pop()                      #delete the last item\n",
    "s_01.clear()                    #clear the set content\n",
    "del s_01                        #delete the object set"
   ]
  },
  {
   "cell_type": "markdown",
   "metadata": {},
   "source": [
    "### Dictionaries\n",
    "\n",
    "{Key00: Value00, Key01: Value01, ...}\n",
    "\n",
    "Use to store data values in key:values pairs. They're ordered, changeable, and don't allow duplicate members. Can exist nested dicts."
   ]
  },
  {
   "cell_type": "code",
   "execution_count": null,
   "metadata": {},
   "outputs": [],
   "source": [
    "dict_01[\"Key\"]                #access a value by its key (same as dict_01.get(key))\n",
    "dict_01.copy()                #make a copy (dict_01=dict_01 reference to the same point, don't do it)\n",
    "len(dict_01)                  #returns the dict length"
   ]
  },
  {
   "cell_type": "code",
   "execution_count": null,
   "metadata": {},
   "outputs": [],
   "source": [
    "dict_01.keys()                #returns a view object that contains the keys of the dict (use list())\n",
    "dict_01.values()              #returns a view object that displays a list of all values in a given dict (use list())\n",
    "dict_01.items()               #returns a view object that contains the key-value pairs of the dict"
   ]
  },
  {
   "cell_type": "code",
   "execution_count": null,
   "metadata": {},
   "outputs": [],
   "source": [
    "dict_01.update(dict_02)       #inserts a iterable object of key/value pairs to the dict\n",
    "{**dict_01,**dict_02}         #can concatenate n dicts\n",
    "dict_01.pop(\"Key\")            #removes a item by its key\n",
    "dict_01.popitem()             #removes the last inserted item\n",
    "dict_01.clear()               #removes all the elements from a dict\n",
    "del dict_01                   #delete the dict (using [Key] for just a item)\n",
    "dict_01[\"Mateus\"] = -1        #set a value to key Mateus (if the key doesn't exist, its created)"
   ]
  },
  {
   "cell_type": "markdown",
   "metadata": {},
   "source": [
    "## Control Structures\n"
   ]
  },
  {
   "cell_type": "code",
   "execution_count": null,
   "metadata": {},
   "outputs": [],
   "source": [
    "range(a,b,step)   #returns a list from a (inclusive and default 0) to b (non-inclusive) incremented by step (default 1)\n",
    "break             #stops the loop\n",
    "continue          #stop current iteration and continue with the next\n",
    "pass              #it is a null statement"
   ]
  },
  {
   "cell_type": "markdown",
   "metadata": {},
   "source": [
    "### IF - ELIF - ELSE"
   ]
  },
  {
   "cell_type": "markdown",
   "metadata": {},
   "source": [
    "\n",
    "\n",
    "```\n",
    "if cond1:\n",
    "  statement1\n",
    "elif cond2:\n",
    "  statement2\n",
    "else:\n",
    "  statement3\n",
    "```\n",
    "\n"
   ]
  },
  {
   "cell_type": "markdown",
   "metadata": {},
   "source": [
    "```\n",
    "if cond1:\n",
    "  if cond12:\n",
    "    statement1\n",
    "  else:\n",
    "    statement2\n",
    "```"
   ]
  },
  {
   "cell_type": "markdown",
   "metadata": {},
   "source": [
    "```\n",
    "if cond1: statement\n",
    "```"
   ]
  },
  {
   "cell_type": "markdown",
   "metadata": {},
   "source": [
    "### Loops"
   ]
  },
  {
   "cell_type": "markdown",
   "metadata": {},
   "source": [
    "#### FOR\n",
    "\n",
    "Is used for iterating over a sequence (that is either a list, a tuple, a dictionary, a set, or a string)."
   ]
  },
  {
   "cell_type": "markdown",
   "metadata": {},
   "source": [
    "```\n",
    "for i in iterable_seq:\n",
    "  statement1\n",
    "```"
   ]
  },
  {
   "cell_type": "markdown",
   "metadata": {},
   "source": [
    "```\n",
    "for i in iterable_seq1:\n",
    "  for j in iterable_seq2:\n",
    "    statement1\n",
    "```"
   ]
  },
  {
   "cell_type": "markdown",
   "metadata": {},
   "source": [
    "```\n",
    "for i in iterable_seq:\n",
    "  statement1\n",
    "else:          #only execute when the loop is finished\n",
    "  statement2\n",
    "```"
   ]
  },
  {
   "cell_type": "markdown",
   "metadata": {},
   "source": [
    "#### WHILE"
   ]
  },
  {
   "cell_type": "markdown",
   "metadata": {},
   "source": [
    "```\n",
    "while cond:\n",
    "  statement1\n",
    "```"
   ]
  },
  {
   "cell_type": "markdown",
   "metadata": {},
   "source": [
    "```\n",
    "while cond:\n",
    "  statement1\n",
    "else:         #only execute when the loop is finished\n",
    "  statement2\n",
    "```"
   ]
  },
  {
   "cell_type": "markdown",
   "metadata": {},
   "source": [
    "### Error and Exceptions"
   ]
  },
  {
   "cell_type": "markdown",
   "metadata": {},
   "source": [
    "```\n",
    "try:               #test a block of code\n",
    "  statement1\n",
    "except Err as e:   #handle the error\n",
    "  statement2\n",
    "else:              #execute code when there is no error\n",
    "  statement3\n",
    "finally:           #execute code, regardlees of the result of the try\n",
    "  statement4\n",
    "```"
   ]
  },
  {
   "cell_type": "markdown",
   "metadata": {},
   "source": [
    "## Functions"
   ]
  },
  {
   "cell_type": "code",
   "execution_count": null,
   "metadata": {},
   "outputs": [],
   "source": [
    "#*param3: you don't know how many arguments will be passed, so the arg is stored in a tuple param3 (Arbitrary Arg *arg)\n",
    "#**param4: you don't know how many arguments will be passed, so the arg is stored in a dict param4 (Arbitrary Keyword Arg **kwargs)\n",
    "\n",
    "def functionName(param1, param2='', *param3, **param4):\n",
    "  statement1\n",
    "  return SthOrNth\n",
    "functionName(arg)"
   ]
  },
  {
   "cell_type": "code",
   "execution_count": null,
   "metadata": {},
   "outputs": [],
   "source": [
    "#lambda functions\n",
    "funcLambda = lambda param1, param2='': statement\n",
    "funcLambda(arg)"
   ]
  },
  {
   "cell_type": "markdown",
   "metadata": {},
   "source": [
    "## Special Functions"
   ]
  },
  {
   "cell_type": "code",
   "execution_count": null,
   "metadata": {},
   "outputs": [],
   "source": [
    "# Map: executes a given function for each item in an itarable\n",
    "    #returns a Map Object with the results - cast with list()..\n",
    "    #the item is the func param, each iterable has its own param (same order)\n",
    "map(function, iterable_seq1, iterable_seq2)"
   ]
  },
  {
   "cell_type": "code",
   "execution_count": null,
   "metadata": {},
   "outputs": [],
   "source": [
    "# Reduce: apply a given function (with just two param) for\n",
    "    #each item in a itarable - return one element\n",
    "from functools import reduce\n",
    "reduce(fucntion, itarable)"
   ]
  },
  {
   "cell_type": "code",
   "execution_count": null,
   "metadata": {},
   "outputs": [],
   "source": [
    "# Filter: returns an iterator were the items are filtered through\n",
    "    #a function to test if the item is accepted or not\n",
    "filter(function, itarable)"
   ]
  },
  {
   "cell_type": "code",
   "execution_count": null,
   "metadata": {},
   "outputs": [],
   "source": [
    "# List Comprehension: offers a shorter syntax when you want to\n",
    "    #craete a new list based on the values of an exisiting iterable\n",
    "[value for value in iterable_seq if cond1]"
   ]
  },
  {
   "cell_type": "code",
   "execution_count": null,
   "metadata": {},
   "outputs": [],
   "source": [
    "# Zip: returns a Zip Object which is a iterator of tuples where each one is\n",
    "    #the interators' item paired together (in order)\n",
    "    #if the iterator has differents lenghts, the smaller one decide the size\n",
    "    #can cast the Enumerate Object with list() and tuple()\n",
    "zip(iterable_seq1, iterable_seq2)"
   ]
  },
  {
   "cell_type": "code",
   "execution_count": null,
   "metadata": {},
   "outputs": [],
   "source": [
    "# Enumerate: enumerates a given iterator - returns a Enumerate Object, a list\n",
    "    #of tuples, where each tuple haves the counter and the item\n",
    "    #can cast the Enumerate Object with list() and tuple()\n",
    "enumerate(itarable,start=0)"
   ]
  },
  {
   "cell_type": "markdown",
   "metadata": {},
   "source": [
    "## OOP"
   ]
  },
  {
   "cell_type": "code",
   "execution_count": null,
   "metadata": {},
   "outputs": [],
   "source": [
    "class ClassName():\n",
    "\n",
    "  def __init__(self, cParam, cParam2=''):      #construct\n",
    "    self.attr1 = cParam\n",
    "    self.attr2 = var\n",
    "\n",
    "  def __str__(self):                           #use when call func str(obj)\n",
    "    return \"some string\"\n",
    "\n",
    "  def __len__(self):                           #use when call func len(obj)\n",
    "    return 0\n",
    "\n",
    "  def functionName(self, fParam):              #method (can have many)\n",
    "    statement1\n",
    "    return SthOrNth"
   ]
  },
  {
   "cell_type": "code",
   "execution_count": null,
   "metadata": {},
   "outputs": [],
   "source": [
    "class ClassParent(ClassChild):       #heritage - to override a method, just rewrite it with the same name\n",
    "  def __init__(self):\n",
    "    super().__init__(self)          #get all attrs and methods from ClassSub"
   ]
  },
  {
   "cell_type": "code",
   "execution_count": null,
   "metadata": {},
   "outputs": [],
   "source": [
    "callClass = ClassName(param)     #creat a object\n",
    "callClass.functionName(param)    #call a method in class\n",
    "callClass.attr1                  #get attribute 1"
   ]
  },
  {
   "cell_type": "code",
   "execution_count": null,
   "metadata": {},
   "outputs": [],
   "source": [
    "callClass.attr1 = Value          #set a Value for the attribute 'attr1'\n",
    "del callClass.attr1              #delete the attribute 'attr1'\n",
    "del callClass                    #delete the object 'callClass'"
   ]
  },
  {
   "cell_type": "code",
   "execution_count": null,
   "metadata": {},
   "outputs": [],
   "source": [
    "hasattr(callClass, 'A1')         #check if there is a attribute called 'A1'\n",
    "setattr(callClass, 'A1', Value)  #set a Value for the attr 'A1'\n",
    "getattr(callClass, 'A1')         #return the attribute value\n",
    "delattr(callClass, 'A1')         #delete attribute 'A1'"
   ]
  },
  {
   "cell_type": "markdown",
   "metadata": {},
   "source": [
    "## Files"
   ]
  },
  {
   "cell_type": "markdown",
   "metadata": {},
   "source": [
    "### Read"
   ]
  },
  {
   "cell_type": "code",
   "execution_count": null,
   "metadata": {},
   "outputs": [],
   "source": [
    "file_pointer = open(\"filePath\",\"r\")\n",
    "file_pointer.close()\n",
    "\n",
    "with open(\"filePath\", \"r\") as file_pointer:\n",
    "  statement"
   ]
  },
  {
   "cell_type": "code",
   "execution_count": null,
   "metadata": {},
   "outputs": [],
   "source": [
    "file_pointer.read()              #read all content of the file, can define the numb of character passing int as param\n",
    "file_pointer.readline()          #read one line\n",
    "file_pointer.readlines()         #returns a list with all lines\n",
    "file_pointer.tell()              #get the current file position\n",
    "file_pointer.seek(row_n, col_n)  #bring file cursos to row_n,col_n point"
   ]
  },
  {
   "cell_type": "markdown",
   "metadata": {},
   "source": [
    "### Write"
   ]
  },
  {
   "cell_type": "code",
   "execution_count": null,
   "metadata": {},
   "outputs": [],
   "source": [
    "#create a file if doens't exist\n",
    "\n",
    "file_pointer = open(\"filePath\",\"w\")\n",
    "file_pointer.close()\n",
    "\n",
    "with open(\"filePath\", \"w\") as file_pointer:\n",
    "  statement"
   ]
  },
  {
   "cell_type": "code",
   "execution_count": null,
   "metadata": {},
   "outputs": [],
   "source": [
    "file_pointer.write(var_str)       #write the content (many inside 'with open...' write in sequency)\n",
    "file_pointer.wirtelines(l_liens)  #write a list of lines"
   ]
  },
  {
   "cell_type": "markdown",
   "metadata": {},
   "source": [
    "### Append"
   ]
  },
  {
   "cell_type": "code",
   "execution_count": null,
   "metadata": {},
   "outputs": [],
   "source": [
    "#create a file if doens't exist\n",
    "\n",
    "file_pointer = open(\"filePath\",\"a\")\n",
    "file_pointer.close()\n",
    "\n",
    "with open(\"filePath\", \"a\") as file_pointer:\n",
    "  statement"
   ]
  },
  {
   "cell_type": "code",
   "execution_count": null,
   "metadata": {},
   "outputs": [],
   "source": [
    "file_pointer.write(var_str)       #append content to the file"
   ]
  },
  {
   "cell_type": "markdown",
   "metadata": {},
   "source": [
    "### JSON Files"
   ]
  },
  {
   "cell_type": "markdown",
   "metadata": {},
   "source": [
    "When convert from a Python Object to a JSON String:\n",
    "*   Python Obj -----> JS Obj\n",
    "*   dict -----> Object\n",
    "*   list -----> Array\n",
    "*   tuple -----> Array\n",
    "*   str -----> String\n",
    "*   int -----> Number\n",
    "*   float -----> Number\n",
    "*   True -----> true\n",
    "*   False -----> false\n",
    "*   None -----> null\n",
    "\n"
   ]
  },
  {
   "cell_type": "code",
   "execution_count": null,
   "metadata": {},
   "outputs": [],
   "source": [
    "import json\n",
    "json.loads(json_str)   #convert from JSON String to Python Dict\n",
    "json.dumps(python_obj) #convert from Python Object to JSON String"
   ]
  }
 ],
 "metadata": {
  "language_info": {
   "name": "python"
  }
 },
 "nbformat": 4,
 "nbformat_minor": 2
}
